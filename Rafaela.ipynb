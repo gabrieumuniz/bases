{
  "nbformat": 4,
  "nbformat_minor": 0,
  "metadata": {
    "colab": {
      "provenance": [],
      "collapsed_sections": [
        "PGRVXLtPcuPh",
        "1zysLaBQdNxR",
        "z5gk19QrdTh0",
        "magaEcOgWh_n",
        "QM2qYoddw_zv",
        "jjqYviL6gMfr",
        "yyRLfoESxMqP",
        "D5C2DtiCwzNK"
      ],
      "include_colab_link": true
    },
    "kernelspec": {
      "name": "python3",
      "display_name": "Python 3"
    },
    "language_info": {
      "name": "python"
    }
  },
  "cells": [
    {
      "cell_type": "markdown",
      "metadata": {
        "id": "view-in-github",
        "colab_type": "text"
      },
      "source": [
        "<a href=\"https://colab.research.google.com/github/gabrieumuniz/bases/blob/main/Rafaela.ipynb\" target=\"_parent\"><img src=\"https://colab.research.google.com/assets/colab-badge.svg\" alt=\"Open In Colab\"/></a>"
      ]
    },
    {
      "cell_type": "markdown",
      "source": [
        "#Sobre os dados\n",
        "\n",
        "##Informações gerais:\n",
        "O Sistema de Informação de Agravos e Notificação (SINAN) foi regulamentado no ano de 1998, quando se tornou obrigatória a alimentação regular da base de dados nacional pelos municípios, estados e Distrito Federal. O sistema, então, é principalmente alimentado pela notificação e investigação de casos de doenças e agravos presentes na lista nacional de doenças de notificação compulsória, porém é opcional aos estados e municípios a inclusão de outros problemas em sua região.\n",
        "\n",
        "Diante disso, os dados foram extraídos do SINAN, sendo gerados pelo Ministério da Saúde e disponibilizados no DATASUS ([Ministério da Saúde - DATASUS](https://datasus.saude.gov.br/transferencia-de-arquivos/#)).\n",
        "\n",
        "Os microdados da planilha de Violência Interpessoal/Autoprovada do SINAN apresentam como objetivo a captação de informações sobre o perfil de atendimento por violências doméstica, sexual e/ou outras violências (autoprovocadas e interpessoais) em unidades de saúde. Com esses dados, é possível caracterizar o perfil das pessoas que sofreram violências, o tipo, o local, o perfil do provável autor ou autoria da agressão, dentre outros dados.\n",
        "\n",
        "Esses dados são extraídos das unidades de saúde e tratados anualmente para serem disponibilizados no site do Governo Federal.\n",
        "\n",
        "\n",
        "\n",
        "\n"
      ],
      "metadata": {
        "id": "788YHQcMdisv"
      }
    },
    {
      "cell_type": "markdown",
      "source": [
        "###Manipulação da base de dados"
      ],
      "metadata": {
        "id": "PGRVXLtPcuPh"
      }
    },
    {
      "cell_type": "code",
      "execution_count": null,
      "metadata": {
        "colab": {
          "base_uri": "https://localhost:8080/",
          "height": 1000
        },
        "id": "f25acum_zFbl",
        "outputId": "01995513-f992-41d7-aa4b-f5aea4c0daf5"
      },
      "outputs": [
        {
          "output_type": "stream",
          "name": "stdout",
          "text": [
            "Looking in indexes: https://pypi.org/simple, https://us-python.pkg.dev/colab-wheels/public/simple/\n",
            "Requirement already satisfied: missingno in /usr/local/lib/python3.10/dist-packages (0.5.2)\n",
            "Requirement already satisfied: matplotlib in /usr/local/lib/python3.10/dist-packages (from missingno) (3.7.1)\n",
            "Requirement already satisfied: seaborn in /usr/local/lib/python3.10/dist-packages (from missingno) (0.12.2)\n",
            "Requirement already satisfied: numpy in /usr/local/lib/python3.10/dist-packages (from missingno) (1.22.4)\n",
            "Requirement already satisfied: scipy in /usr/local/lib/python3.10/dist-packages (from missingno) (1.10.1)\n",
            "Requirement already satisfied: python-dateutil>=2.7 in /usr/local/lib/python3.10/dist-packages (from matplotlib->missingno) (2.8.2)\n",
            "Requirement already satisfied: pillow>=6.2.0 in /usr/local/lib/python3.10/dist-packages (from matplotlib->missingno) (8.4.0)\n",
            "Requirement already satisfied: kiwisolver>=1.0.1 in /usr/local/lib/python3.10/dist-packages (from matplotlib->missingno) (1.4.4)\n",
            "Requirement already satisfied: fonttools>=4.22.0 in /usr/local/lib/python3.10/dist-packages (from matplotlib->missingno) (4.39.3)\n",
            "Requirement already satisfied: packaging>=20.0 in /usr/local/lib/python3.10/dist-packages (from matplotlib->missingno) (23.1)\n",
            "Requirement already satisfied: cycler>=0.10 in /usr/local/lib/python3.10/dist-packages (from matplotlib->missingno) (0.11.0)\n",
            "Requirement already satisfied: pyparsing>=2.3.1 in /usr/local/lib/python3.10/dist-packages (from matplotlib->missingno) (3.0.9)\n",
            "Requirement already satisfied: contourpy>=1.0.1 in /usr/local/lib/python3.10/dist-packages (from matplotlib->missingno) (1.0.7)\n",
            "Requirement already satisfied: pandas>=0.25 in /usr/local/lib/python3.10/dist-packages (from seaborn->missingno) (1.5.3)\n",
            "Requirement already satisfied: pytz>=2020.1 in /usr/local/lib/python3.10/dist-packages (from pandas>=0.25->seaborn->missingno) (2022.7.1)\n",
            "Requirement already satisfied: six>=1.5 in /usr/local/lib/python3.10/dist-packages (from python-dateutil>=2.7->matplotlib->missingno) (1.16.0)\n",
            "Looking in indexes: https://pypi.org/simple, https://us-python.pkg.dev/colab-wheels/public/simple/\n",
            "Collecting basedosdados\n",
            "  Using cached basedosdados-1.6.11-py3-none-any.whl (51 kB)\n",
            "Collecting Jinja2==3.0.3\n",
            "  Using cached Jinja2-3.0.3-py3-none-any.whl (133 kB)\n",
            "Requirement already satisfied: pandas<2.0.0,>=1.3.5 in /usr/local/lib/python3.10/dist-packages (from basedosdados) (1.5.3)\n",
            "Collecting pandavro<2.0.0,>=1.6.0\n",
            "  Downloading pandavro-1.7.2-py3-none-any.whl (8.8 kB)\n",
            "Collecting pyaml==20.4.0\n",
            "  Using cached pyaml-20.4.0-py2.py3-none-any.whl (17 kB)\n",
            "Collecting ckanapi==4.6\n",
            "  Using cached ckanapi-4.6.tar.gz (32 kB)\n",
            "  Preparing metadata (setup.py) ... \u001b[?25l\u001b[?25hdone\n",
            "Collecting shapely<2.0.0,>=1.6.0\n",
            "  Downloading Shapely-1.8.5.post1-cp310-cp310-manylinux_2_12_x86_64.manylinux2010_x86_64.whl (2.0 MB)\n",
            "\u001b[2K     \u001b[90m━━━━━━━━━━━━━━━━━━━━━━━━━━━━━━━━━━━━━━━━\u001b[0m \u001b[32m2.0/2.0 MB\u001b[0m \u001b[31m22.4 MB/s\u001b[0m eta \u001b[36m0:00:00\u001b[0m\n",
            "\u001b[?25hCollecting tomlkit==0.7.0\n",
            "  Downloading tomlkit-0.7.0-py2.py3-none-any.whl (32 kB)\n",
            "Collecting click==8.0.3\n",
            "  Using cached click-8.0.3-py3-none-any.whl (97 kB)\n",
            "Collecting google-cloud-bigquery-storage==1.1.0\n",
            "  Using cached google_cloud_bigquery_storage-1.1.0-py2.py3-none-any.whl (135 kB)\n",
            "Requirement already satisfied: pandas-gbq<0.18.0,>=0.17.4 in /usr/local/lib/python3.10/dist-packages (from basedosdados) (0.17.9)\n",
            "Requirement already satisfied: toml<0.11.0,>=0.10.2 in /usr/local/lib/python3.10/dist-packages (from basedosdados) (0.10.2)\n",
            "Collecting google-cloud-bigquery==2.30.1\n",
            "  Using cached google_cloud_bigquery-2.30.1-py2.py3-none-any.whl (203 kB)\n",
            "Collecting tqdm==4.50.2\n",
            "  Using cached tqdm-4.50.2-py2.py3-none-any.whl (70 kB)\n",
            "Collecting ruamel.yaml==0.17.10\n",
            "  Downloading ruamel.yaml-0.17.10-py3-none-any.whl (108 kB)\n",
            "\u001b[2K     \u001b[90m━━━━━━━━━━━━━━━━━━━━━━━━━━━━━━━━━━━━━━\u001b[0m \u001b[32m108.4/108.4 kB\u001b[0m \u001b[31m14.7 MB/s\u001b[0m eta \u001b[36m0:00:00\u001b[0m\n",
            "\u001b[?25hCollecting loguru<0.7.0,>=0.6.0\n",
            "  Using cached loguru-0.6.0-py3-none-any.whl (58 kB)\n",
            "Collecting google-cloud-storage==1.42.3\n",
            "  Using cached google_cloud_storage-1.42.3-py2.py3-none-any.whl (105 kB)\n",
            "Collecting pyarrow==6.0.0\n",
            "  Downloading pyarrow-6.0.0-cp310-cp310-manylinux_2_17_x86_64.manylinux2014_x86_64.whl (25.6 MB)\n",
            "\u001b[2K     \u001b[90m━━━━━━━━━━━━━━━━━━━━━━━━━━━━━━━━━━━━━━━━\u001b[0m \u001b[32m25.6/25.6 MB\u001b[0m \u001b[31m50.6 MB/s\u001b[0m eta \u001b[36m0:00:00\u001b[0m\n",
            "\u001b[?25hCollecting importlib-metadata<5.0.0,>=4.11.3\n",
            "  Downloading importlib_metadata-4.13.0-py3-none-any.whl (23 kB)\n",
            "Requirement already satisfied: setuptools in /usr/local/lib/python3.10/dist-packages (from ckanapi==4.6->basedosdados) (67.7.2)\n",
            "Collecting docopt\n",
            "  Downloading docopt-0.6.2.tar.gz (25 kB)\n",
            "  Preparing metadata (setup.py) ... \u001b[?25l\u001b[?25hdone\n",
            "Requirement already satisfied: requests in /usr/local/lib/python3.10/dist-packages (from ckanapi==4.6->basedosdados) (2.27.1)\n",
            "Requirement already satisfied: python-slugify>=1.0 in /usr/local/lib/python3.10/dist-packages (from ckanapi==4.6->basedosdados) (8.0.1)\n",
            "Requirement already satisfied: six<2.0,>=1.9 in /usr/local/lib/python3.10/dist-packages (from ckanapi==4.6->basedosdados) (1.16.0)\n",
            "Requirement already satisfied: grpcio<2.0dev,>=1.38.1 in /usr/local/lib/python3.10/dist-packages (from google-cloud-bigquery==2.30.1->basedosdados) (1.54.0)\n",
            "Requirement already satisfied: python-dateutil<3.0dev,>=2.7.2 in /usr/local/lib/python3.10/dist-packages (from google-cloud-bigquery==2.30.1->basedosdados) (2.8.2)\n",
            "Requirement already satisfied: protobuf>=3.12.0 in /usr/local/lib/python3.10/dist-packages (from google-cloud-bigquery==2.30.1->basedosdados) (3.20.3)\n",
            "Requirement already satisfied: google-cloud-core<3.0.0dev,>=1.4.1 in /usr/local/lib/python3.10/dist-packages (from google-cloud-bigquery==2.30.1->basedosdados) (2.3.2)\n",
            "Requirement already satisfied: proto-plus>=1.10.0 in /usr/local/lib/python3.10/dist-packages (from google-cloud-bigquery==2.30.1->basedosdados) (1.22.2)\n",
            "Requirement already satisfied: packaging>=14.3 in /usr/local/lib/python3.10/dist-packages (from google-cloud-bigquery==2.30.1->basedosdados) (23.1)\n",
            "Requirement already satisfied: google-api-core[grpc]<3.0.0dev,>=1.29.0 in /usr/local/lib/python3.10/dist-packages (from google-cloud-bigquery==2.30.1->basedosdados) (2.11.0)\n",
            "Requirement already satisfied: google-resumable-media<3.0dev,>=0.6.0 in /usr/local/lib/python3.10/dist-packages (from google-cloud-bigquery==2.30.1->basedosdados) (2.5.0)\n",
            "Collecting google-api-core[grpc]<3.0.0dev,>=1.29.0\n",
            "  Downloading google_api_core-1.34.0-py3-none-any.whl (120 kB)\n",
            "\u001b[2K     \u001b[90m━━━━━━━━━━━━━━━━━━━━━━━━━━━━━━━━━━━━━━\u001b[0m \u001b[32m120.2/120.2 kB\u001b[0m \u001b[31m12.4 MB/s\u001b[0m eta \u001b[36m0:00:00\u001b[0m\n",
            "\u001b[?25hRequirement already satisfied: google-auth<3.0dev,>=1.25.0 in /usr/local/lib/python3.10/dist-packages (from google-cloud-storage==1.42.3->basedosdados) (2.17.3)\n",
            "Requirement already satisfied: MarkupSafe>=2.0 in /usr/local/lib/python3.10/dist-packages (from Jinja2==3.0.3->basedosdados) (2.1.2)\n",
            "Requirement already satisfied: PyYAML in /usr/local/lib/python3.10/dist-packages (from pyaml==20.4.0->basedosdados) (6.0)\n",
            "Requirement already satisfied: numpy>=1.16.6 in /usr/local/lib/python3.10/dist-packages (from pyarrow==6.0.0->basedosdados) (1.22.4)\n",
            "Requirement already satisfied: zipp>=0.5 in /usr/local/lib/python3.10/dist-packages (from importlib-metadata<5.0.0,>=4.11.3->basedosdados) (3.15.0)\n",
            "Requirement already satisfied: pytz>=2020.1 in /usr/local/lib/python3.10/dist-packages (from pandas<2.0.0,>=1.3.5->basedosdados) (2022.7.1)\n",
            "Requirement already satisfied: pydata-google-auth in /usr/local/lib/python3.10/dist-packages (from pandas-gbq<0.18.0,>=0.17.4->basedosdados) (1.7.0)\n",
            "Requirement already satisfied: google-auth-oauthlib>=0.0.1 in /usr/local/lib/python3.10/dist-packages (from pandas-gbq<0.18.0,>=0.17.4->basedosdados) (1.0.0)\n",
            "Requirement already satisfied: db-dtypes<2.0.0,>=0.3.1 in /usr/local/lib/python3.10/dist-packages (from pandas-gbq<0.18.0,>=0.17.4->basedosdados) (1.1.1)\n",
            "Collecting fastavro~=1.5.1\n",
            "  Downloading fastavro-1.5.4-cp310-cp310-manylinux_2_17_x86_64.manylinux2014_x86_64.whl (2.6 MB)\n",
            "\u001b[2K     \u001b[90m━━━━━━━━━━━━━━━━━━━━━━━━━━━━━━━━━━━━━━━━\u001b[0m \u001b[32m2.6/2.6 MB\u001b[0m \u001b[31m65.7 MB/s\u001b[0m eta \u001b[36m0:00:00\u001b[0m\n",
            "\u001b[?25hRequirement already satisfied: googleapis-common-protos<2.0dev,>=1.56.2 in /usr/local/lib/python3.10/dist-packages (from google-api-core[grpc]<3.0.0dev,>=1.29.0->google-cloud-bigquery==2.30.1->basedosdados) (1.59.0)\n",
            "Requirement already satisfied: grpcio-status<2.0dev,>=1.33.2 in /usr/local/lib/python3.10/dist-packages (from google-api-core[grpc]<3.0.0dev,>=1.29.0->google-cloud-bigquery==2.30.1->basedosdados) (1.48.2)\n",
            "Requirement already satisfied: pyasn1-modules>=0.2.1 in /usr/local/lib/python3.10/dist-packages (from google-auth<3.0dev,>=1.25.0->google-cloud-storage==1.42.3->basedosdados) (0.3.0)\n",
            "Requirement already satisfied: rsa<5,>=3.1.4 in /usr/local/lib/python3.10/dist-packages (from google-auth<3.0dev,>=1.25.0->google-cloud-storage==1.42.3->basedosdados) (4.9)\n",
            "Requirement already satisfied: cachetools<6.0,>=2.0.0 in /usr/local/lib/python3.10/dist-packages (from google-auth<3.0dev,>=1.25.0->google-cloud-storage==1.42.3->basedosdados) (5.3.0)\n",
            "Requirement already satisfied: requests-oauthlib>=0.7.0 in /usr/local/lib/python3.10/dist-packages (from google-auth-oauthlib>=0.0.1->pandas-gbq<0.18.0,>=0.17.4->basedosdados) (1.3.1)\n",
            "Requirement already satisfied: google-crc32c<2.0dev,>=1.0 in /usr/local/lib/python3.10/dist-packages (from google-resumable-media<3.0dev,>=0.6.0->google-cloud-bigquery==2.30.1->basedosdados) (1.5.0)\n",
            "Requirement already satisfied: text-unidecode>=1.3 in /usr/local/lib/python3.10/dist-packages (from python-slugify>=1.0->ckanapi==4.6->basedosdados) (1.3)\n",
            "Requirement already satisfied: urllib3<1.27,>=1.21.1 in /usr/local/lib/python3.10/dist-packages (from requests->ckanapi==4.6->basedosdados) (1.26.15)\n",
            "Requirement already satisfied: certifi>=2017.4.17 in /usr/local/lib/python3.10/dist-packages (from requests->ckanapi==4.6->basedosdados) (2022.12.7)\n",
            "Requirement already satisfied: idna<4,>=2.5 in /usr/local/lib/python3.10/dist-packages (from requests->ckanapi==4.6->basedosdados) (3.4)\n",
            "Requirement already satisfied: charset-normalizer~=2.0.0 in /usr/local/lib/python3.10/dist-packages (from requests->ckanapi==4.6->basedosdados) (2.0.12)\n",
            "Requirement already satisfied: pyasn1<0.6.0,>=0.4.6 in /usr/local/lib/python3.10/dist-packages (from pyasn1-modules>=0.2.1->google-auth<3.0dev,>=1.25.0->google-cloud-storage==1.42.3->basedosdados) (0.5.0)\n",
            "Requirement already satisfied: oauthlib>=3.0.0 in /usr/local/lib/python3.10/dist-packages (from requests-oauthlib>=0.7.0->google-auth-oauthlib>=0.0.1->pandas-gbq<0.18.0,>=0.17.4->basedosdados) (3.2.2)\n",
            "Building wheels for collected packages: ckanapi, docopt\n",
            "  Building wheel for ckanapi (setup.py) ... \u001b[?25l\u001b[?25hdone\n",
            "  Created wheel for ckanapi: filename=ckanapi-4.6-py3-none-any.whl size=40700 sha256=23a625019d7e78e6a68d0f7b7ba4d81ef4d35c6f91a0d6af1ec695aeaa1a1b1e\n",
            "  Stored in directory: /root/.cache/pip/wheels/64/30/93/f9c2ebf4e93dc7b6abd5e376cdee291a6541ee504ac6ec4062\n",
            "  Building wheel for docopt (setup.py) ... \u001b[?25l\u001b[?25hdone\n",
            "  Created wheel for docopt: filename=docopt-0.6.2-py2.py3-none-any.whl size=13721 sha256=b190d6795801693c866ccb9462e2e8739eaf4574f982219b27b809902ce8e66c\n",
            "  Stored in directory: /root/.cache/pip/wheels/fc/ab/d4/5da2067ac95b36618c629a5f93f809425700506f72c9732fac\n",
            "Successfully built ckanapi docopt\n",
            "Installing collected packages: docopt, tqdm, tomlkit, shapely, ruamel.yaml, pyarrow, pyaml, loguru, Jinja2, importlib-metadata, fastavro, click, ckanapi, pandavro, google-api-core, google-cloud-storage, google-cloud-bigquery-storage, google-cloud-bigquery, basedosdados\n",
            "  Attempting uninstall: tqdm\n",
            "    Found existing installation: tqdm 4.65.0\n",
            "    Uninstalling tqdm-4.65.0:\n",
            "      Successfully uninstalled tqdm-4.65.0\n",
            "  Attempting uninstall: shapely\n",
            "    Found existing installation: shapely 2.0.1\n",
            "    Uninstalling shapely-2.0.1:\n",
            "      Successfully uninstalled shapely-2.0.1\n",
            "  Attempting uninstall: pyarrow\n",
            "    Found existing installation: pyarrow 9.0.0\n",
            "    Uninstalling pyarrow-9.0.0:\n",
            "      Successfully uninstalled pyarrow-9.0.0\n",
            "  Attempting uninstall: Jinja2\n",
            "    Found existing installation: Jinja2 3.1.2\n",
            "    Uninstalling Jinja2-3.1.2:\n",
            "      Successfully uninstalled Jinja2-3.1.2\n",
            "  Attempting uninstall: importlib-metadata\n",
            "    Found existing installation: importlib-metadata 6.6.0\n",
            "    Uninstalling importlib-metadata-6.6.0:\n",
            "      Successfully uninstalled importlib-metadata-6.6.0\n",
            "  Attempting uninstall: click\n",
            "    Found existing installation: click 8.1.3\n",
            "    Uninstalling click-8.1.3:\n",
            "      Successfully uninstalled click-8.1.3\n",
            "  Attempting uninstall: google-api-core\n",
            "    Found existing installation: google-api-core 2.11.0\n",
            "    Uninstalling google-api-core-2.11.0:\n",
            "      Successfully uninstalled google-api-core-2.11.0\n",
            "  Attempting uninstall: google-cloud-storage\n",
            "    Found existing installation: google-cloud-storage 2.8.0\n",
            "    Uninstalling google-cloud-storage-2.8.0:\n",
            "      Successfully uninstalled google-cloud-storage-2.8.0\n",
            "  Attempting uninstall: google-cloud-bigquery-storage\n",
            "    Found existing installation: google-cloud-bigquery-storage 2.19.1\n",
            "    Uninstalling google-cloud-bigquery-storage-2.19.1:\n",
            "      Successfully uninstalled google-cloud-bigquery-storage-2.19.1\n",
            "  Attempting uninstall: google-cloud-bigquery\n",
            "    Found existing installation: google-cloud-bigquery 3.9.0\n",
            "    Uninstalling google-cloud-bigquery-3.9.0:\n",
            "      Successfully uninstalled google-cloud-bigquery-3.9.0\n",
            "Successfully installed Jinja2-3.0.3 basedosdados-1.6.11 ckanapi-4.6 click-8.0.3 docopt-0.6.2 fastavro-1.5.4 google-api-core-1.34.0 google-cloud-bigquery-2.30.1 google-cloud-bigquery-storage-1.1.0 google-cloud-storage-1.42.3 importlib-metadata-4.13.0 loguru-0.6.0 pandavro-1.7.2 pyaml-20.4.0 pyarrow-6.0.0 ruamel.yaml-0.17.10 shapely-1.8.5.post1 tomlkit-0.7.0 tqdm-4.50.2\n"
          ]
        },
        {
          "output_type": "display_data",
          "data": {
            "application/vnd.colab-display-data+json": {
              "pip_warning": {
                "packages": [
                  "google",
                  "pyarrow",
                  "shapely",
                  "tqdm"
                ]
              }
            }
          },
          "metadata": {}
        }
      ],
      "source": [
        "#Instalação dos pacotes\n",
        "!pip install missingno\n",
        "!pip install basedosdados\n",
        "import pandas as pd\n",
        "import seaborn as sns\n",
        "import missingno as msno\n",
        "import numpy as np\n",
        "import basedosdados as bd\n",
        "from matplotlib import pyplot as plt\n",
        "\n",
        "# display options\n",
        "pd.options.display.max_rows = 1000\n",
        "pd.options.display.max_columns = 1000\n",
        "\n",
        "# Setting seaborn as default style even if use only matplotlib\n",
        "sns.set()  "
      ]
    },
    {
      "cell_type": "markdown",
      "source": [
        "####Importação da base de dados"
      ],
      "metadata": {
        "id": "1zysLaBQdNxR"
      }
    },
    {
      "cell_type": "code",
      "source": [
        "# @title Setup\n",
        "from google.colab import auth\n",
        "from google.cloud import bigquery\n",
        "from google.colab import data_table\n",
        "\n",
        "project = 'peerless-rite-382015' # Project ID inserted based on the query results selected to explore\n",
        "location = 'US' # Location inserted based on the query results selected to explore\n",
        "client = bigquery.Client(project=project, location=location)\n",
        "data_table.enable_dataframe_formatter()\n",
        "auth.authenticate_user()"
      ],
      "metadata": {
        "id": "suI4ayYMecYN"
      },
      "execution_count": null,
      "outputs": []
    },
    {
      "cell_type": "code",
      "source": [
        "# Running this code will read results from your previous job\n",
        "\n",
        "job = client.get_job('bquxjob_10b9b468_187cf7e14c1') # Job ID inserted based on the query results selected to explore\n",
        "df = job.to_dataframe()\n",
        "df"
      ],
      "metadata": {
        "id": "GSHFOBTH9bdx",
        "colab": {
          "base_uri": "https://localhost:8080/",
          "height": 415
        },
        "outputId": "8ca4ade1-5d13-4a3f-fed8-bca52e66f56c"
      },
      "execution_count": null,
      "outputs": [
        {
          "output_type": "error",
          "ename": "NotFound",
          "evalue": "ignored",
          "traceback": [
            "\u001b[0;31m---------------------------------------------------------------------------\u001b[0m",
            "\u001b[0;31mNotFound\u001b[0m                                  Traceback (most recent call last)",
            "\u001b[0;32m<ipython-input-9-566c0f2e9459>\u001b[0m in \u001b[0;36m<cell line: 3>\u001b[0;34m()\u001b[0m\n\u001b[1;32m      1\u001b[0m \u001b[0;31m# Running this code will read results from your previous job\u001b[0m\u001b[0;34m\u001b[0m\u001b[0;34m\u001b[0m\u001b[0m\n\u001b[1;32m      2\u001b[0m \u001b[0;34m\u001b[0m\u001b[0m\n\u001b[0;32m----> 3\u001b[0;31m \u001b[0mjob\u001b[0m \u001b[0;34m=\u001b[0m \u001b[0mclient\u001b[0m\u001b[0;34m.\u001b[0m\u001b[0mget_job\u001b[0m\u001b[0;34m(\u001b[0m\u001b[0;34m'bquxjob_10b9b468_187cf7e14c1'\u001b[0m\u001b[0;34m)\u001b[0m \u001b[0;31m# Job ID inserted based on the query results selected to explore\u001b[0m\u001b[0;34m\u001b[0m\u001b[0;34m\u001b[0m\u001b[0m\n\u001b[0m\u001b[1;32m      4\u001b[0m \u001b[0mdf\u001b[0m \u001b[0;34m=\u001b[0m \u001b[0mjob\u001b[0m\u001b[0;34m.\u001b[0m\u001b[0mto_dataframe\u001b[0m\u001b[0;34m(\u001b[0m\u001b[0;34m)\u001b[0m\u001b[0;34m\u001b[0m\u001b[0;34m\u001b[0m\u001b[0m\n\u001b[1;32m      5\u001b[0m \u001b[0mdf\u001b[0m\u001b[0;34m\u001b[0m\u001b[0;34m\u001b[0m\u001b[0m\n",
            "\u001b[0;32m/usr/local/lib/python3.10/dist-packages/google/cloud/bigquery/client.py\u001b[0m in \u001b[0;36mget_job\u001b[0;34m(self, job_id, project, location, retry, timeout)\u001b[0m\n\u001b[1;32m   2086\u001b[0m                 \u001b[0mgoogle\u001b[0m\u001b[0;34m.\u001b[0m\u001b[0mcloud\u001b[0m\u001b[0;34m.\u001b[0m\u001b[0mbigquery\u001b[0m\u001b[0;34m.\u001b[0m\u001b[0mjob\u001b[0m\u001b[0;34m.\u001b[0m\u001b[0mExtractJob\u001b[0m\u001b[0;34m,\u001b[0m\u001b[0;31m \u001b[0m\u001b[0;31m\\\u001b[0m\u001b[0;34m\u001b[0m\u001b[0;34m\u001b[0m\u001b[0m\n\u001b[1;32m   2087\u001b[0m                 \u001b[0mgoogle\u001b[0m\u001b[0;34m.\u001b[0m\u001b[0mcloud\u001b[0m\u001b[0;34m.\u001b[0m\u001b[0mbigquery\u001b[0m\u001b[0;34m.\u001b[0m\u001b[0mjob\u001b[0m\u001b[0;34m.\u001b[0m\u001b[0mQueryJob\u001b[0m\u001b[0;31m \u001b[0m\u001b[0;31m\\\u001b[0m\u001b[0;34m\u001b[0m\u001b[0;34m\u001b[0m\u001b[0m\n\u001b[0;32m-> 2088\u001b[0;31m             ]): Job identifier.\n\u001b[0m\u001b[1;32m   2089\u001b[0m \u001b[0;34m\u001b[0m\u001b[0m\n\u001b[1;32m   2090\u001b[0m         \u001b[0mKeyword\u001b[0m \u001b[0mArguments\u001b[0m\u001b[0;34m:\u001b[0m\u001b[0;34m\u001b[0m\u001b[0;34m\u001b[0m\u001b[0m\n",
            "\u001b[0;32m/usr/local/lib/python3.10/dist-packages/google/cloud/bigquery/client.py\u001b[0m in \u001b[0;36m_call_api\u001b[0;34m(self, retry, span_name, span_attributes, job_ref, headers, **kwargs)\u001b[0m\n\u001b[1;32m    811\u001b[0m         \u001b[0mretry\u001b[0m\u001b[0;34m:\u001b[0m \u001b[0mretries\u001b[0m\u001b[0;34m.\u001b[0m\u001b[0mRetry\u001b[0m \u001b[0;34m=\u001b[0m \u001b[0mDEFAULT_RETRY\u001b[0m\u001b[0;34m,\u001b[0m\u001b[0;34m\u001b[0m\u001b[0;34m\u001b[0m\u001b[0m\n\u001b[1;32m    812\u001b[0m         \u001b[0mtimeout\u001b[0m\u001b[0;34m:\u001b[0m \u001b[0mfloat\u001b[0m \u001b[0;34m=\u001b[0m \u001b[0mDEFAULT_TIMEOUT\u001b[0m\u001b[0;34m,\u001b[0m\u001b[0;34m\u001b[0m\u001b[0;34m\u001b[0m\u001b[0m\n\u001b[0;32m--> 813\u001b[0;31m     ) -> Policy:\n\u001b[0m\u001b[1;32m    814\u001b[0m         \u001b[0mtable\u001b[0m \u001b[0;34m=\u001b[0m \u001b[0m_table_arg_to_table_ref\u001b[0m\u001b[0;34m(\u001b[0m\u001b[0mtable\u001b[0m\u001b[0;34m,\u001b[0m \u001b[0mdefault_project\u001b[0m\u001b[0;34m=\u001b[0m\u001b[0mself\u001b[0m\u001b[0;34m.\u001b[0m\u001b[0mproject\u001b[0m\u001b[0;34m)\u001b[0m\u001b[0;34m\u001b[0m\u001b[0;34m\u001b[0m\u001b[0m\n\u001b[1;32m    815\u001b[0m \u001b[0;34m\u001b[0m\u001b[0m\n",
            "\u001b[0;32m/usr/local/lib/python3.10/dist-packages/google/api_core/retry.py\u001b[0m in \u001b[0;36mretry_wrapped_func\u001b[0;34m(*args, **kwargs)\u001b[0m\n\u001b[1;32m    347\u001b[0m                 \u001b[0mself\u001b[0m\u001b[0;34m.\u001b[0m\u001b[0m_initial\u001b[0m\u001b[0;34m,\u001b[0m \u001b[0mself\u001b[0m\u001b[0;34m.\u001b[0m\u001b[0m_maximum\u001b[0m\u001b[0;34m,\u001b[0m \u001b[0mmultiplier\u001b[0m\u001b[0;34m=\u001b[0m\u001b[0mself\u001b[0m\u001b[0;34m.\u001b[0m\u001b[0m_multiplier\u001b[0m\u001b[0;34m\u001b[0m\u001b[0;34m\u001b[0m\u001b[0m\n\u001b[1;32m    348\u001b[0m             )\n\u001b[0;32m--> 349\u001b[0;31m             return retry_target(\n\u001b[0m\u001b[1;32m    350\u001b[0m                 \u001b[0mtarget\u001b[0m\u001b[0;34m,\u001b[0m\u001b[0;34m\u001b[0m\u001b[0;34m\u001b[0m\u001b[0m\n\u001b[1;32m    351\u001b[0m                 \u001b[0mself\u001b[0m\u001b[0;34m.\u001b[0m\u001b[0m_predicate\u001b[0m\u001b[0;34m,\u001b[0m\u001b[0;34m\u001b[0m\u001b[0;34m\u001b[0m\u001b[0m\n",
            "\u001b[0;32m/usr/local/lib/python3.10/dist-packages/google/api_core/retry.py\u001b[0m in \u001b[0;36mretry_target\u001b[0;34m(target, predicate, sleep_generator, timeout, on_error, **kwargs)\u001b[0m\n\u001b[1;32m    189\u001b[0m     \u001b[0;32mfor\u001b[0m \u001b[0msleep\u001b[0m \u001b[0;32min\u001b[0m \u001b[0msleep_generator\u001b[0m\u001b[0;34m:\u001b[0m\u001b[0;34m\u001b[0m\u001b[0;34m\u001b[0m\u001b[0m\n\u001b[1;32m    190\u001b[0m         \u001b[0;32mtry\u001b[0m\u001b[0;34m:\u001b[0m\u001b[0;34m\u001b[0m\u001b[0;34m\u001b[0m\u001b[0m\n\u001b[0;32m--> 191\u001b[0;31m             \u001b[0;32mreturn\u001b[0m \u001b[0mtarget\u001b[0m\u001b[0;34m(\u001b[0m\u001b[0;34m)\u001b[0m\u001b[0;34m\u001b[0m\u001b[0;34m\u001b[0m\u001b[0m\n\u001b[0m\u001b[1;32m    192\u001b[0m \u001b[0;34m\u001b[0m\u001b[0m\n\u001b[1;32m    193\u001b[0m         \u001b[0;31m# pylint: disable=broad-except\u001b[0m\u001b[0;34m\u001b[0m\u001b[0;34m\u001b[0m\u001b[0m\n",
            "\u001b[0;32m/usr/local/lib/python3.10/dist-packages/google/cloud/_http/__init__.py\u001b[0m in \u001b[0;36mapi_request\u001b[0;34m(self, method, path, query_params, data, content_type, headers, api_base_url, api_version, expect_json, _target_object, timeout, extra_api_info)\u001b[0m\n\u001b[1;32m    492\u001b[0m \u001b[0;34m\u001b[0m\u001b[0m\n\u001b[1;32m    493\u001b[0m         \u001b[0;32mif\u001b[0m \u001b[0;32mnot\u001b[0m \u001b[0;36m200\u001b[0m \u001b[0;34m<=\u001b[0m \u001b[0mresponse\u001b[0m\u001b[0;34m.\u001b[0m\u001b[0mstatus_code\u001b[0m \u001b[0;34m<\u001b[0m \u001b[0;36m300\u001b[0m\u001b[0;34m:\u001b[0m\u001b[0;34m\u001b[0m\u001b[0;34m\u001b[0m\u001b[0m\n\u001b[0;32m--> 494\u001b[0;31m             \u001b[0;32mraise\u001b[0m \u001b[0mexceptions\u001b[0m\u001b[0;34m.\u001b[0m\u001b[0mfrom_http_response\u001b[0m\u001b[0;34m(\u001b[0m\u001b[0mresponse\u001b[0m\u001b[0;34m)\u001b[0m\u001b[0;34m\u001b[0m\u001b[0;34m\u001b[0m\u001b[0m\n\u001b[0m\u001b[1;32m    495\u001b[0m \u001b[0;34m\u001b[0m\u001b[0m\n\u001b[1;32m    496\u001b[0m         \u001b[0;32mif\u001b[0m \u001b[0mexpect_json\u001b[0m \u001b[0;32mand\u001b[0m \u001b[0mresponse\u001b[0m\u001b[0;34m.\u001b[0m\u001b[0mcontent\u001b[0m\u001b[0;34m:\u001b[0m\u001b[0;34m\u001b[0m\u001b[0;34m\u001b[0m\u001b[0m\n",
            "\u001b[0;31mNotFound\u001b[0m: 404 GET https://bigquery.googleapis.com/bigquery/v2/projects/peerless-rite-382015/jobs/bquxjob_10b9b468_187cf7e14c1?projection=full&location=US&prettyPrint=false: Not found: Job peerless-rite-382015:US.bquxjob_10b9b468_187cf7e14c1"
          ]
        }
      ]
    },
    {
      "cell_type": "markdown",
      "source": [
        "####Tratamento da base de dados direcionados a análise\n",
        "\n",
        "Foram removidas as variáveis que não estão diretamente relacionadas às características da vítima e que não indicam os tipos de violência sofridos a serem analisados (física, sexual e psicológica).\n",
        "A variável ocupação foi removida, em específico, pois está descontinuada. Aqui, por recomendação do docente, não será necessária a indicação da natureza de tais variáveis, uma vez que não serão utilizadas para a presente análise."
      ],
      "metadata": {
        "id": "z5gk19QrdTh0"
      }
    },
    {
      "cell_type": "code",
      "source": [
        "df.drop(['ano','data_notificacao','data_ocorrencia','id_categoria_cid10','id_subcategoria_cid10','tipo_notificacao','id_uf_notificacao',\n",
        "         'id_municipio_notificacao','id_municipio_6_notificacao','id_unidade_notificacao','id_regional_saude_notificacao','data_ocorrencia',\n",
        "         'id_municipio_ocorrencia','id_municipio_6_ocorrencia','hora_ocorrencia','outro_local_ocorrencia','id_uf_residencia',\n",
        "         'id_municipio_residencia','id_municipio_6_residencia','id_regional_saude_residencia','gestante_paciente','violencia_relacionada_trabalho','emitiu_cat',\n",
        "         'outras_deficiencias_paciente','quais_outras_deficiencias_paciente','quais_outras_deficiencias_paciente','lesao_autoprovocada',\n",
        "         'ocorreu_tortura','ocorreu_trafico_ser_humano','ocorreu_negligencia_abandono','ocorreu_intervencao_legal','ocorreu_outra_violencia',\n",
        "         'ocorreu_qual_outra','meio_forca','meio_enforcamento','meio_objeto_contundente','meio_objeto_perfurante','meio_envenenamento','meio_arma_fogo',\n",
        "         'meio_ameaca','meio_outros','meio_qual_outro','houve_assedio','houve_estupro','houve_pornografia_infantil','houve_exploracao_sexual',\n",
        "         'houve_outra_violencia_sexual','houve_qual_outra_violencia_sexual','profilaxia_dst','profilaxia_hiv','profilaxia_hepatite_b','coleta_sangue',\n",
        "         'coleta_semen','coleta_secrecao_vaginal','profilaxia_contraceptivo','aborto','numero_envolvidos_violencia','autor_relacao_outros','autor_sexo',\n",
        "         'ocupacao_paciente','ocorreu_trabalho_infantil','data_encerramento','meio_objeto_quente','ocorreu_violencia_financeira'], axis=1, inplace=True)"
      ],
      "metadata": {
        "id": "OO_7w9N2nKd2",
        "colab": {
          "base_uri": "https://localhost:8080/",
          "height": 252
        },
        "outputId": "ba77f5e1-0f4c-419e-c359-882df792b0ba"
      },
      "execution_count": null,
      "outputs": [
        {
          "output_type": "error",
          "ename": "NameError",
          "evalue": "ignored",
          "traceback": [
            "\u001b[0;31m---------------------------------------------------------------------------\u001b[0m",
            "\u001b[0;31mNameError\u001b[0m                                 Traceback (most recent call last)",
            "\u001b[0;32m<ipython-input-10-0240f7013dbb>\u001b[0m in \u001b[0;36m<cell line: 1>\u001b[0;34m()\u001b[0m\n\u001b[0;32m----> 1\u001b[0;31m df.drop(['ano','data_notificacao','data_ocorrencia','id_categoria_cid10','id_subcategoria_cid10','tipo_notificacao','id_uf_notificacao',\n\u001b[0m\u001b[1;32m      2\u001b[0m          \u001b[0;34m'id_municipio_notificacao'\u001b[0m\u001b[0;34m,\u001b[0m\u001b[0;34m'id_municipio_6_notificacao'\u001b[0m\u001b[0;34m,\u001b[0m\u001b[0;34m'id_unidade_notificacao'\u001b[0m\u001b[0;34m,\u001b[0m\u001b[0;34m'id_regional_saude_notificacao'\u001b[0m\u001b[0;34m,\u001b[0m\u001b[0;34m'data_ocorrencia'\u001b[0m\u001b[0;34m,\u001b[0m\u001b[0;34m\u001b[0m\u001b[0;34m\u001b[0m\u001b[0m\n\u001b[1;32m      3\u001b[0m          \u001b[0;34m'id_municipio_ocorrencia'\u001b[0m\u001b[0;34m,\u001b[0m\u001b[0;34m'id_municipio_6_ocorrencia'\u001b[0m\u001b[0;34m,\u001b[0m\u001b[0;34m'hora_ocorrencia'\u001b[0m\u001b[0;34m,\u001b[0m\u001b[0;34m'outro_local_ocorrencia'\u001b[0m\u001b[0;34m,\u001b[0m\u001b[0;34m'id_uf_residencia'\u001b[0m\u001b[0;34m,\u001b[0m\u001b[0;34m\u001b[0m\u001b[0;34m\u001b[0m\u001b[0m\n\u001b[1;32m      4\u001b[0m          \u001b[0;34m'id_municipio_residencia'\u001b[0m\u001b[0;34m,\u001b[0m\u001b[0;34m'id_municipio_6_residencia'\u001b[0m\u001b[0;34m,\u001b[0m\u001b[0;34m'id_regional_saude_residencia'\u001b[0m\u001b[0;34m,\u001b[0m\u001b[0;34m'gestante_paciente'\u001b[0m\u001b[0;34m,\u001b[0m\u001b[0;34m'violencia_relacionada_trabalho'\u001b[0m\u001b[0;34m,\u001b[0m\u001b[0;34m'emitiu_cat'\u001b[0m\u001b[0;34m,\u001b[0m\u001b[0;34m\u001b[0m\u001b[0;34m\u001b[0m\u001b[0m\n\u001b[1;32m      5\u001b[0m          \u001b[0;34m'outras_deficiencias_paciente'\u001b[0m\u001b[0;34m,\u001b[0m\u001b[0;34m'quais_outras_deficiencias_paciente'\u001b[0m\u001b[0;34m,\u001b[0m\u001b[0;34m'quais_outras_deficiencias_paciente'\u001b[0m\u001b[0;34m,\u001b[0m\u001b[0;34m'lesao_autoprovocada'\u001b[0m\u001b[0;34m,\u001b[0m\u001b[0;34m\u001b[0m\u001b[0;34m\u001b[0m\u001b[0m\n",
            "\u001b[0;31mNameError\u001b[0m: name 'df' is not defined"
          ]
        }
      ]
    },
    {
      "cell_type": "code",
      "source": [
        "df"
      ],
      "metadata": {
        "id": "TcfmTbI8WrOt"
      },
      "execution_count": null,
      "outputs": []
    },
    {
      "cell_type": "code",
      "source": [
        "df.dtypes"
      ],
      "metadata": {
        "id": "PqIbIg4EpkEk"
      },
      "execution_count": null,
      "outputs": []
    },
    {
      "cell_type": "code",
      "source": [
        "df.isnull().sum()"
      ],
      "metadata": {
        "id": "95REmrqCAxpr"
      },
      "execution_count": null,
      "outputs": []
    },
    {
      "cell_type": "code",
      "source": [
        "#@title Pré-processamento geral\n",
        "\n",
        "#Transformação da idade de variável numérica discreta em variável categórica ordinal\n",
        "df['idade_paciente'] = df['idade_paciente'].dropna() \n",
        "df['idade_paciente'] = pd.cut(df['idade_paciente'], bins=[0, 18, 25, 36, 50, 66, 75, 120], \n",
        "                               labels=['0 a 17 anos','18 a 24 anos','25 a 35 anos','36 a 49 anos','50 a 65 anos','66 a 74 anos','75 anos em diante'])\n",
        "\n",
        "#Tratamento de null values\n",
        "df['id_uf_ocorrencia'] = df['id_uf_ocorrencia'].dropna()  \n",
        "df['sexo_paciente'] = df['sexo_paciente'].fillna(3)  \n",
        "df['local_ocorrencia'] = df['local_ocorrencia'].fillna(9)  \n",
        "df['local_ocorrencia'] = df['local_ocorrencia'].fillna(9)\n",
        "df['outras_vezes_ocorrencia'] = df['outras_vezes_ocorrencia'].fillna(0)\n",
        "df['raca_paciente'] = df['raca_paciente'].fillna(6)\n",
        "df['escolaridade_paciente'] = df['escolaridade_paciente'].fillna(10)\n",
        "df['estado_civil_paciente'] = df['estado_civil_paciente'].fillna(8)\n",
        "df['orientacao_sexual_paciente'] = df['orientacao_sexual_paciente'].fillna(8)\n",
        "df['identidade_genero_paciente'] = df['identidade_genero_paciente'].fillna(8)\n",
        "df['motivacao_violencia'] = df['motivacao_violencia'].fillna(88)\n",
        "df['deficiencia_transtorno_paciente'] = df['deficiencia_transtorno_paciente'].fillna(8)\n",
        "df['deficiencia_fisica_paciente'] = df['deficiencia_fisica_paciente'].fillna(8)\n",
        "df['deficiencia_mental_paciente'] = df['deficiencia_mental_paciente'].fillna(8)\n",
        "df['deficiencia_visual_paciente'] = df['deficiencia_visual_paciente'].fillna(8)\n",
        "df['deficiencia_auditiva_paciente'] = df['deficiencia_auditiva_paciente'].fillna(8)\n",
        "df['transtorno_mental_paciente'] = df['transtorno_mental_paciente'].fillna(8)\n",
        "df['transtorno_comportamental_paciente'] = df['transtorno_comportamental_paciente'].fillna(8)\n",
        "df.loc[:,'ocorreu_violencia_fisica':'encaminhamento_defensoria_publica'] = df.loc[:,'ocorreu_violencia_fisica':'encaminhamento_defensoria_publica'].fillna(0)\n",
        "\n",
        "#Transformando em dummies\n",
        "dummy = pd.get_dummies(df['id_uf_ocorrencia'], prefix='id_uf_ocorrencia')\n",
        "df = pd.concat([df, dummy], axis=1)\n",
        "df.drop(columns=['id_uf_ocorrencia'], inplace=True)\n",
        "\n",
        "dummy = pd.get_dummies(df['local_ocorrencia'], prefix='local_ocorrencia')\n",
        "df = pd.concat([df, dummy], axis=1)\n",
        "df.drop(columns=['local_ocorrencia'], inplace=True)\n",
        "\n",
        "dummy = pd.get_dummies(df['idade_paciente'], prefix='idade_paciente')\n",
        "df = pd.concat([df, dummy], axis=1)\n",
        "df.drop(columns=['idade_paciente'], inplace=True)\n",
        "\n",
        "dummy = pd.get_dummies(df['raca_paciente'], prefix='raca_paciente')\n",
        "df = pd.concat([df, dummy], axis=1)\n",
        "df.drop(columns=['raca_paciente'], inplace=True)\n",
        "\n",
        "dummy = pd.get_dummies(df['escolaridade_paciente'], prefix='escolaridade_paciente')\n",
        "df = pd.concat([df, dummy], axis=1)\n",
        "df.drop(columns=['escolaridade_paciente'], inplace=True)\n",
        "\n",
        "dummy = pd.get_dummies(df['estado_civil_paciente'], prefix='estado_civil_paciente')\n",
        "df = pd.concat([df, dummy], axis=1)\n",
        "df.drop(columns=['estado_civil_paciente'], inplace=True)\n",
        "\n",
        "dummy = pd.get_dummies(df['orientacao_sexual_paciente'], prefix='orientacao_sexual_paciente')\n",
        "df = pd.concat([df, dummy], axis=1)\n",
        "df.drop(columns=['orientacao_sexual_paciente'], inplace=True)\n",
        "\n",
        "dummy = pd.get_dummies(df['identidade_genero_paciente'], prefix='identidade_genero_paciente')\n",
        "df = pd.concat([df, dummy], axis=1)\n",
        "df.drop(columns=['identidade_genero_paciente'], inplace=True)\n",
        "\n",
        "dummy = pd.get_dummies(df['motivacao_violencia'], prefix='motivacao_violencia')\n",
        "df = pd.concat([df, dummy], axis=1)\n",
        "df.drop(columns=['motivacao_violencia'], inplace=True)\n",
        "\n",
        "dummy = pd.get_dummies(df['deficiencia_transtorno_paciente'], prefix='deficiencia_transtorno_paciente')\n",
        "df = pd.concat([df, dummy], axis=1)\n",
        "df.drop(columns=['deficiencia_transtorno_paciente'], inplace=True)\n",
        "\n",
        "dummy = pd.get_dummies(df['deficiencia_fisica_paciente'], prefix='deficiencia_fisica_paciente')\n",
        "df = pd.concat([df, dummy], axis=1)\n",
        "df.drop(columns=['deficiencia_fisica_paciente'], inplace=True)\n",
        "\n",
        "dummy = pd.get_dummies(df['deficiencia_mental_paciente'], prefix='deficiencia_mental_paciente')\n",
        "df = pd.concat([df, dummy], axis=1)\n",
        "df.drop(columns=['deficiencia_mental_paciente'], inplace=True)\n",
        "\n",
        "dummy = pd.get_dummies(df['deficiencia_visual_paciente'], prefix='deficiencia_visual_paciente')\n",
        "df = pd.concat([df, dummy], axis=1)\n",
        "df.drop(columns=['deficiencia_visual_paciente'], inplace=True)\n",
        "\n",
        "dummy = pd.get_dummies(df['transtorno_mental_paciente'], prefix='transtorno_mental_paciente')\n",
        "df = pd.concat([df, dummy], axis=1)\n",
        "df.drop(columns=['transtorno_mental_paciente'], inplace=True)\n",
        "\n",
        "dummy = pd.get_dummies(df['transtorno_comportamental_paciente'], prefix='transtorno_comportamental_paciente')\n",
        "df = pd.concat([df, dummy], axis=1)\n",
        "df.drop(columns=['transtorno_comportamental_paciente'], inplace=True)\n",
        "\n",
        "dummy = pd.get_dummies(df['sexo_paciente'], prefix='sexo_paciente')\n",
        "df = pd.concat([df, dummy], axis=1)\n",
        "df.drop(columns=['sexo_paciente'], inplace=True)"
      ],
      "metadata": {
        "id": "Z7JRgRbKKPwb"
      },
      "execution_count": null,
      "outputs": []
    },
    {
      "cell_type": "code",
      "source": [
        "df.dtypes"
      ],
      "metadata": {
        "id": "5TPEg6mdDyTi"
      },
      "execution_count": null,
      "outputs": []
    },
    {
      "cell_type": "code",
      "source": [
        "df.isnull().sum()"
      ],
      "metadata": {
        "id": "Nd6ScGClNbL5"
      },
      "execution_count": null,
      "outputs": []
    },
    {
      "cell_type": "markdown",
      "source": [
        "##Aplicação do modelo\n",
        "\n",
        "###Regressão Logística\n",
        "Objetivo: identificar, a partir dos tipos de violências selecionados (física, psicológica e sexual), quais características estão mais expostas a esses tipos de violência.\n",
        "\n",
        "###Passo a passo:\n",
        "\n",
        "1. Separação do grupo de teste em 50-50\n",
        "2. Método de seleção de variáveis\n",
        "3. Validação do modelo por meio das métricas (precision, recall, f1_score, accuracy)\n",
        "4. Com o modelo validado, extração dos valores qui-quadrado e p-value para identificar se as variáveis independentes tendem a apresentar forte relação à variável dependente.\n",
        "\n"
      ],
      "metadata": {
        "id": "magaEcOgWh_n"
      }
    },
    {
      "cell_type": "markdown",
      "source": [
        "####Violência física\n",
        "Variáveis utilizadas para a análise, extraídas pela seleção de variáveis:\n",
        "\n",
        "1. Autor Mãe: **Variável Qualitativa Nominal** (1:'sim', 0:'nao')\n",
        "2. Autor Cônjuge: **Variável Qualitativa Nominal** (1:'sim', 0:'nao')\n",
        "3. Autor Própria Pessoa: **Variável Qualitativa Nominal** (1:'sim', 0:'nao')\n",
        "4. Local da Ocorrência: **Variável Qualitativa Nominal** \n",
        "(1:'residencia',\n",
        "2:'habitacao coletiva', \n",
        "3:'escola', \n",
        "4:'local de pratica esportiva',\n",
        "5: 'bar ou similar',\n",
        "6:'via publica',                                                 \n",
        "7:'comercio/servicos',\n",
        "8:'industrias/construcao',\n",
        "9:'outro')\n",
        "5. Motivação da Violência: **Variável Qualitativa Nominal** (\n",
        "10:'sexismo', \n",
        "20:'lgbtfobia',\n",
        "30:'racismo',\n",
        "40:'intolerancia religiosa', \n",
        "50:'xenofobia',\n",
        "60:'conflito geracional',                                                           70:'situacao de rua',\n",
        "88:'nao se aplica',\n",
        "90:'outros')"
      ],
      "metadata": {
        "id": "QM2qYoddw_zv"
      }
    },
    {
      "cell_type": "code",
      "source": [
        "#@title Setup\n",
        "# Importa bibliotecas\n",
        "from sklearn.feature_selection import RFE\n",
        "from sklearn.linear_model import LogisticRegression\n",
        "from sklearn.model_selection import train_test_split\n",
        "from sklearn.metrics import confusion_matrix, classification_report\n",
        "from sklearn.metrics import roc_curve\n",
        "#Pré-processando os dados\n",
        "from sklearn.preprocessing import StandardScaler\n",
        "from sklearn.metrics import precision_score, recall_score, f1_score, accuracy_score"
      ],
      "metadata": {
        "id": "mka8CaVqRCtL"
      },
      "execution_count": null,
      "outputs": []
    },
    {
      "cell_type": "code",
      "source": [
        "df.ocorreu_violencia_fisica.value_counts()"
      ],
      "metadata": {
        "id": "qzJayEBMTlaw"
      },
      "execution_count": null,
      "outputs": []
    },
    {
      "cell_type": "code",
      "source": [
        "y_violencia_fisica = df['ocorreu_violencia_fisica']\n",
        "X_violencia_fisica = df.drop(['ocorreu_violencia_fisica', 'ocorreu_violencia_psicologica','ocorreu_violencia_sexual'], axis=1)\n",
        "Xtrn, Xtst, ytrn, ytst = train_test_split(X_violencia_fisica, y_violencia_fisica, test_size=0.5, random_state=123)"
      ],
      "metadata": {
        "id": "BvFEk8cclBzi"
      },
      "execution_count": null,
      "outputs": []
    },
    {
      "cell_type": "code",
      "source": [
        "model_violencia_fisica = LogisticRegression()"
      ],
      "metadata": {
        "id": "8LP7ZR7WmCqn"
      },
      "execution_count": null,
      "outputs": []
    },
    {
      "cell_type": "code",
      "source": [
        "selector = RFE(model_violencia_fisica, n_features_to_select=5)\n",
        "selector.fit(Xtrn, ytrn)\n",
        "selected_features = Xtrn.columns[selector.get_support()]\n",
        "Xtrn_selected = selector.transform(Xtrn)\n",
        "Xtst_selected = selector.transform(Xtst)\n",
        "selected_features"
      ],
      "metadata": {
        "id": "u3DN5XMhcxEQ"
      },
      "execution_count": null,
      "outputs": []
    },
    {
      "cell_type": "code",
      "source": [
        "# treina o modelo com as variáveis selecionadas\n",
        "model_violencia_fisica.fit(Xtrn_selected, ytrn)\n",
        "\n",
        "# faz a previsão com as variáveis selecionadas\n",
        "ypred = model_violencia_fisica.predict(Xtst_selected)\n",
        "\n",
        "# calcula as métricas de desempenho\n",
        "precision = precision_score(ytst, ypred)\n",
        "recall = recall_score(ytst, ypred)\n",
        "f1 = f1_score(ytst, ypred)\n",
        "accuracy = accuracy_score(ytst, ypred)\n",
        "\n",
        "# cria a tabela de resultados\n",
        "results = pd.DataFrame(data={'Precision': [precision], 'Recall': [recall], 'F1-score': [f1], 'Accuracy': [accuracy]})\n",
        "\n",
        "# exibe a tabela de resultados\n",
        "print(results)"
      ],
      "metadata": {
        "id": "WcTNS4gTW_iZ"
      },
      "execution_count": null,
      "outputs": []
    },
    {
      "cell_type": "markdown",
      "source": [
        "####Violência psicológica\n",
        "Variáveis utilizadas para a análise, extraídas pela seleção de variáveis:\n",
        "\n",
        "1. Autor Mãe: **Variável Qualitativa Nominal** (1:'sim', 0:'nao')\n",
        "2. Autor Cônjuge: **Variável Qualitativa Nominal** (1:'sim', 0:'nao')\n",
        "3. Autor Própria Pessoa: **Variável Qualitativa Nominal** (1:'sim', 0:'nao')\n",
        "4. Local da Ocorrência: **Variável Qualitativa Nominal** \n",
        "(1:'residencia',\n",
        "2:'habitacao coletiva', \n",
        "3:'escola', \n",
        "4:'local de pratica esportiva',\n",
        "5: 'bar ou similar',\n",
        "6:'via publica',                                                 \n",
        "7:'comercio/servicos',\n",
        "8:'industrias/construcao',\n",
        "9:'outro')\n",
        "5. Motivação da Violência: **Variável Qualitativa Nominal** (\n",
        "10:'sexismo', \n",
        "20:'lgbtfobia',\n",
        "30:'racismo',\n",
        "40:'intolerancia religiosa', \n",
        "50:'xenofobia',\n",
        "60:'conflito geracional',                                                           70:'situacao de rua',\n",
        "88:'nao se aplica',\n",
        "90:'outros')"
      ],
      "metadata": {
        "id": "jjqYviL6gMfr"
      }
    },
    {
      "cell_type": "code",
      "source": [
        "#@title Setup\n",
        "# Importa bibliotecas\n",
        "from sklearn.feature_selection import RFE\n",
        "from sklearn.linear_model import LogisticRegression\n",
        "from sklearn.model_selection import train_test_split\n",
        "from sklearn.metrics import confusion_matrix, classification_report\n",
        "from sklearn.metrics import roc_curve\n",
        "#Pré-processando os dados\n",
        "from sklearn.preprocessing import StandardScaler\n",
        "from sklearn.metrics import precision_score, recall_score, f1_score, accuracy_score"
      ],
      "metadata": {
        "id": "BEQdtgtsgMft"
      },
      "execution_count": null,
      "outputs": []
    },
    {
      "cell_type": "code",
      "source": [
        "df.ocorreu_violencia_psicologica.value_counts()"
      ],
      "metadata": {
        "id": "iZENSwjOgMfv"
      },
      "execution_count": null,
      "outputs": []
    },
    {
      "cell_type": "code",
      "source": [
        "y_violencia_psicologica = df['ocorreu_violencia_psicologica']\n",
        "X_violencia_psicologica = df.drop(['ocorreu_violencia_fisica', 'ocorreu_violencia_psicologica','ocorreu_violencia_sexual'], axis=1)\n",
        "Xtrn, Xtst, ytrn, ytst = train_test_split(X_violencia_fisica, y_violencia_fisica, test_size=0.5, random_state=123)"
      ],
      "metadata": {
        "id": "BXQH0SVMgMfw"
      },
      "execution_count": null,
      "outputs": []
    },
    {
      "cell_type": "code",
      "source": [
        "model_violencia_psicologica = LogisticRegression()"
      ],
      "metadata": {
        "id": "L-XPSjUegMfz"
      },
      "execution_count": null,
      "outputs": []
    },
    {
      "cell_type": "code",
      "source": [
        "selector = RFE(model_violencia_psicologica, n_features_to_select=5)\n",
        "selector.fit(Xtrn, ytrn)\n",
        "selected_features = Xtrn.columns[selector.get_support()]\n",
        "Xtrn_selected = selector.transform(Xtrn)\n",
        "Xtst_selected = selector.transform(Xtst)\n",
        "selected_features"
      ],
      "metadata": {
        "id": "QaTo5OMkgMfz"
      },
      "execution_count": null,
      "outputs": []
    },
    {
      "cell_type": "code",
      "source": [
        "# treina o modelo com as variáveis selecionadas\n",
        "model_violencia_psicologica.fit(Xtrn_selected,ytrn)\n",
        "\n",
        "# faz a previsão com as variáveis selecionadas\n",
        "ypred = model_violencia_psicologica.predict(Xtst_selected)\n",
        "\n",
        "# calcula as métricas de desempenho\n",
        "precision = precision_score(ytst, ypred)\n",
        "recall = recall_score(ytst, ypred)\n",
        "f1 = f1_score(ytst, ypred)\n",
        "accuracy = accuracy_score(ytst, ypred)\n",
        "\n",
        "# cria a tabela de resultados\n",
        "results = pd.DataFrame(data={'Precision': [precision], 'Recall': [recall], 'F1-score': [f1], 'Accuracy': [accuracy]})\n",
        "\n",
        "# exibe a tabela de resultados\n",
        "print(results)"
      ],
      "metadata": {
        "id": "Th2fb_AHgMf0"
      },
      "execution_count": null,
      "outputs": []
    },
    {
      "cell_type": "markdown",
      "source": [
        "####Violência sexual\n",
        "Variáveis utilizadas para a análise, extraídas pela seleção de variáveis:\n",
        "\n",
        "1. Autor Mãe: **Variável Qualitativa Nominal** (1:'sim', 0:'nao')\n",
        "2. Autor Cônjuge: **Variável Qualitativa Nominal** (1:'sim', 0:'nao')\n",
        "3. Autor Ex-Cônjuge: **Variável Qualitativa Nominal** (1:'sim', 0:'nao')\n",
        "4. Autor Filho(a): **Variável Qualitativa Nominal** (1:'sim', 0:'nao')\n",
        "5. Autor Própria Pessoa: **Variável Qualitativa Nominal** (1:'sim', 0:'nao')\n",
        "6. Idade: **Variável Qualitativa Ordinal** (0 a 17 anos)\n",
        "7. Motivação da Violência: **Variável Qualitativa Nominal** (\n",
        "10:'sexismo', \n",
        "20:'lgbtfobia',\n",
        "30:'racismo',\n",
        "40:'intolerancia religiosa', \n",
        "50:'xenofobia',\n",
        "60:'conflito geracional',                                                           70:'situacao de rua',\n",
        "88:'nao se aplica',\n",
        "90:'outros')\n",
        "8. Sexo: **Variável Qualitativa Nominal** (1:'masculino', 0:'feminino', nesse caso, sexo masculino)"
      ],
      "metadata": {
        "id": "yyRLfoESxMqP"
      }
    },
    {
      "cell_type": "code",
      "source": [
        "#@title Setup\n",
        "# Importa bibliotecas\n",
        "from sklearn.feature_selection import RFE\n",
        "from sklearn.linear_model import LogisticRegression\n",
        "from sklearn.model_selection import train_test_split\n",
        "from sklearn.metrics import confusion_matrix, classification_report\n",
        "from sklearn.metrics import roc_curve\n",
        "#Pré-processando os dados\n",
        "from sklearn.preprocessing import StandardScaler\n",
        "from sklearn.metrics import precision_score, recall_score, f1_score, accuracy_score"
      ],
      "metadata": {
        "id": "g2Ae3TQuwddD"
      },
      "execution_count": null,
      "outputs": []
    },
    {
      "cell_type": "code",
      "source": [
        "df.ocorreu_violencia_sexual.value_counts()"
      ],
      "metadata": {
        "id": "IJRG3cDvwddE"
      },
      "execution_count": null,
      "outputs": []
    },
    {
      "cell_type": "code",
      "source": [
        "y_violencia_sexual = df['ocorreu_violencia_sexual']\n",
        "X_violencia_sexual = df.drop(['ocorreu_violencia_fisica', 'ocorreu_violencia_psicologica','ocorreu_violencia_sexual'], axis=1)\n",
        "Xtrn, Xtst, ytrn, ytst = train_test_split(X_violencia_sexual, y_violencia_sexual, test_size=0.5, random_state=123)"
      ],
      "metadata": {
        "id": "Mv82l2bJwddF"
      },
      "execution_count": null,
      "outputs": []
    },
    {
      "cell_type": "code",
      "source": [
        "model_violencia_sexual = LogisticRegression()"
      ],
      "metadata": {
        "id": "JTRXZxmhwddH"
      },
      "execution_count": null,
      "outputs": []
    },
    {
      "cell_type": "code",
      "source": [
        "selector = RFE(model_violencia_sexual, n_features_to_select=10)\n",
        "selector.fit(Xtrn, ytrn)\n",
        "selected_features = Xtrn.columns[selector.get_support()]\n",
        "Xtrn_selected = selector.transform(Xtrn)\n",
        "Xtst_selected = selector.transform(Xtst)\n",
        "selected_features"
      ],
      "metadata": {
        "id": "JxHKijRzY0AR"
      },
      "execution_count": null,
      "outputs": []
    },
    {
      "cell_type": "code",
      "source": [
        "# treina o modelo com as variáveis selecionadas\n",
        "model_violencia_sexual.fit(Xtrn_selected,ytrn)\n",
        "\n",
        "# faz a previsão com as variáveis selecionadas\n",
        "ypred = model_violencia_sexual.predict(Xtst_selected)\n",
        "\n",
        "# calcula as métricas de desempenho\n",
        "precision = precision_score(ytst, ypred)\n",
        "recall = recall_score(ytst, ypred)\n",
        "f1 = f1_score(ytst, ypred)\n",
        "accuracy = accuracy_score(ytst, ypred)\n",
        "\n",
        "# cria a tabela de resultados\n",
        "results = pd.DataFrame(data={'Precision': [precision], 'Recall': [recall], 'F1-score': [f1], 'Accuracy': [accuracy]})\n",
        "\n",
        "# exibe a tabela de resultados\n",
        "print(results)"
      ],
      "metadata": {
        "id": "PrK8ey4IY6a6"
      },
      "execution_count": null,
      "outputs": []
    },
    {
      "cell_type": "markdown",
      "source": [
        "##Extração de dados para inferências estatísticas"
      ],
      "metadata": {
        "id": "41gKaA9mj4nU"
      }
    },
    {
      "cell_type": "code",
      "source": [
        "#@title Setup\n",
        "import scipy.stats as stats\n",
        "from itertools import combinations"
      ],
      "metadata": {
        "id": "hYSYxs6g0uZ4"
      },
      "execution_count": null,
      "outputs": []
    },
    {
      "cell_type": "code",
      "source": [
        "#@title Violência física\n",
        "# especificar variável dependente e variáveis independentes\n",
        "var_dependente = 'ocorreu_violencia_fisica'\n",
        "var_independentes = ['autor_mae', 'autor_conjugue', 'autor_propria_pessoa','local_ocorrencia_5.0', 'motivacao_violencia_70.0']\n",
        "\n",
        "# criar lista de todas as combinações possíveis entre a variável dependente e as variáveis independentes\n",
        "combinacoes = []\n",
        "for var in var_independentes:\n",
        "    combinacoes.append((var_dependente, var))\n",
        "\n",
        "# loop para percorrer as combinações e calcular a tabela de contingência e o teste qui-quadrado\n",
        "resultados = []\n",
        "for comb in combinacoes:\n",
        "    if comb[1] in var_independentes:\n",
        "        contingency_table = pd.crosstab(df[comb[0]], df[comb[1]])\n",
        "        chi2, p, dof, expected = stats.chi2_contingency(contingency_table)\n",
        "        resultados.append({'Variáveis': comb, 'Qui-quadrado': chi2, 'p-valor': p})\n",
        "    \n",
        "# imprimir os resultados\n",
        "for res in resultados:\n",
        "    print(res)"
      ],
      "metadata": {
        "id": "NABb4ZRbtp4B"
      },
      "execution_count": null,
      "outputs": []
    },
    {
      "cell_type": "code",
      "source": [
        "#@title Violência psicológica\n",
        "#@title Violência física\n",
        "# especificar variável dependente e variáveis independentes\n",
        "var_dependente = 'ocorreu_violencia_psicologica'\n",
        "var_independentes = ['autor_mae', 'autor_conjugue', 'autor_propria_pessoa','local_ocorrencia_5.0', 'motivacao_violencia_70.0']\n",
        "\n",
        "# criar lista de todas as combinações possíveis entre a variável dependente e as variáveis independentes\n",
        "combinacoes = []\n",
        "for var in var_independentes:\n",
        "    combinacoes.append((var_dependente, var))\n",
        "\n",
        "# loop para percorrer as combinações e calcular a tabela de contingência e o teste qui-quadrado\n",
        "resultados = []\n",
        "for comb in combinacoes:\n",
        "    if comb[1] in var_independentes:\n",
        "        contingency_table = pd.crosstab(df[comb[0]], df[comb[1]])\n",
        "        chi2, p, dof, expected = stats.chi2_contingency(contingency_table)\n",
        "        resultados.append({'Variáveis': comb, 'Qui-quadrado': chi2, 'p-valor': p})\n",
        "    \n",
        "# imprimir os resultados\n",
        "for res in resultados:\n",
        "    print(res)"
      ],
      "metadata": {
        "id": "TFcwHaO-0WZ_"
      },
      "execution_count": null,
      "outputs": []
    },
    {
      "cell_type": "code",
      "source": [
        "#@title Violência sexual\n",
        "# especificar variável dependente e variáveis independentes\n",
        "var_dependente = 'ocorreu_violencia_fisica'\n",
        "var_independentes = ['autor_mae', 'autor_conjugue', 'autor_ex_conjugue', 'autor_filho_a','autor_propria_pessoa', 'idade_paciente_0 a 17 anos',\n",
        "                     'motivacao_violencia_10.0', 'motivacao_violencia_30.0','motivacao_violencia_60.0', 'sexo_paciente_1.0']\n",
        "\n",
        "# criar lista de todas as combinações possíveis entre a variável dependente e as variáveis independentes\n",
        "combinacoes = []\n",
        "for var in var_independentes:\n",
        "    combinacoes.append((var_dependente, var))\n",
        "\n",
        "# loop para percorrer as combinações e calcular a tabela de contingência e o teste qui-quadrado\n",
        "resultados = []\n",
        "for comb in combinacoes:\n",
        "    if comb[1] in var_independentes:\n",
        "        contingency_table = pd.crosstab(df[comb[0]], df[comb[1]])\n",
        "        chi2, p, dof, expected = stats.chi2_contingency(contingency_table)\n",
        "        resultados.append({'Variáveis': comb, 'Qui-quadrado': chi2, 'p-valor': p})\n",
        "    \n",
        "# imprimir os resultados\n",
        "for res in resultados:\n",
        "    print(res)"
      ],
      "metadata": {
        "id": "gqvo58_B0ZXN"
      },
      "execution_count": null,
      "outputs": []
    },
    {
      "cell_type": "markdown",
      "source": [
        "##Análise dos resultados:\n",
        "\n",
        "O objetivo da análise era de identificar quais características podem estar mais expostas a determinados tipos de violência. Nesse caso, foi aplicado o método de separação de variáveis para selecionar as variáveis que mais afetam cada tipo de violência (física, psicológica e sexual). \n",
        "\n",
        "####Violência física: \n",
        "Com as variáveis selecionadas pela seleção de variáveis:\n",
        "1. Autor Mãe\n",
        "2. Autor Cônjuge\n",
        "3. Autor Própria Pessoa\n",
        "4. Local da Ocorrência\n",
        "5. Motivação da Violência\n",
        "\n",
        "Os valores das métricas do modelo foram os expostos abaixo, demonstrando que o modelo aplicado tem uma boa tendência de previsão, uma vez que todos os parâmetros se encontram em torno de 71%-77%.\n",
        "<table>\n",
        "  <thead>\n",
        "    <tr>\n",
        "      <th>Precision</th>\n",
        "      <th>Recall</th>\n",
        "      <th>F1-score</th>\n",
        "      <th>Accuracy</th>\n",
        "    </tr>\n",
        "  </thead>\n",
        "  <tbody>\n",
        "    <tr>\n",
        "      <td>0.729825</td>\n",
        "      <td>0.774763</td>\n",
        "      <td>0.751623</td>\n",
        "      <td>0.711288</td>\n",
        "    </tr>\n",
        "  </tbody>\n",
        "</table>\n",
        "\n",
        "Depois, para inferir estatisticamente a relação entre a variável dependente e as variáveis independentes, foram extraídos os valores de qui-quadrado e p-value.\n",
        "\n",
        "<table>\n",
        "  <thead>\n",
        "    <tr>\n",
        "      <th>Variáveis</th>\n",
        "      <th>Qui-quadrado</th>\n",
        "      <th>p-valor</th>\n",
        "    </tr>\n",
        "  </thead>\n",
        "  <tbody>\n",
        "    <tr>\n",
        "      <td>ocorreu_violencia_fisica, autor_mae</td>\n",
        "      <td>21507.085532298814</td>\n",
        "      <td>0.0</td>\n",
        "    </tr>\n",
        "    <tr>\n",
        "      <td>ocorreu_violencia_fisica, autor_conjugue</td>\n",
        "      <td>23634.672183969047</td>\n",
        "      <td>0.0</td>\n",
        "    </tr>\n",
        "    <tr>\n",
        "      <td>ocorreu_violencia_fisica, autor_propria_pessoa</td>\n",
        "      <td>33237.40437548103</td>\n",
        "      <td>0.0</td>\n",
        "    </tr>\n",
        "    <tr>\n",
        "      <td>ocorreu_violencia_fisica, local_ocorrencia_bar_ou_similar *(adpt)</td>\n",
        "      <td>3420.975638466118</td>\n",
        "      <td>0.0</td>\n",
        "    </tr>\n",
        "    <tr>\n",
        "      <td>ocorreu_violencia_fisica, motivacao_violencia_situacao_rua *(adpt)</td>\n",
        "      <td>3512.5449382826528</td>\n",
        "      <td>0.0</td>\n",
        "    </tr>\n",
        "  </tbody>\n",
        "</table>\n",
        "*variável com a nomenclatura adaptada\n",
        "\n",
        "Diante disso, foi possível verificar que, a partir dos altos valores de qui-quadrado e de valores de p-value serem iguais a zero, há um forte indício de que tais variáveis independentes podem estar de fato bastante correlacionadas a variável independente.\n",
        "\n",
        "\n",
        "####Violência psicológica: \n",
        "Com as variáveis selecionadas pela seleção de variáveis:\n",
        "1. Autor Mãe\n",
        "2. Autor Cônjuge\n",
        "3. Autor Própria Pessoa\n",
        "4. Local da Ocorrência\n",
        "5. Motivação da Violência\n",
        "\n",
        "Os valores das métricas do modelo foram os expostos abaixo, demonstrando que o modelo aplicado tem uma boa tendência de previsão, uma vez que todos os parâmetros se encontram em torno de 71%-77%.\n",
        "\n",
        "<table>\n",
        "  <thead>\n",
        "    <tr>\n",
        "      <th>Precision</th>\n",
        "      <th>Recall</th>\n",
        "      <th>F1-score</th>\n",
        "      <th>Accuracy</th>\n",
        "    </tr>\n",
        "  </thead>\n",
        "  <tbody>\n",
        "    <tr>\n",
        "      <td>0.729825</td>\n",
        "      <td>0.774763</td>\n",
        "      <td>0.751623</td>\n",
        "      <td>0.711288</td>\n",
        "    </tr>\n",
        "  </tbody>\n",
        "</table>\n",
        "\n",
        "Depois, para inferir estatisticamente a relação entre a variável dependente e as variáveis independentes, foram extraídos os valores de qui-quadrado e p-value.\n",
        "\n",
        "<table>\n",
        "  <thead>\n",
        "    <tr>\n",
        "      <th>Variáveis</th>\n",
        "      <th>Qui-quadrado</th>\n",
        "      <th>p-valor</th>\n",
        "    </tr>\n",
        "  </thead>\n",
        "  <tbody>\n",
        "    <tr>\n",
        "      <td>ocorreu_violencia_psicologica, autor_mae</td>\n",
        "      <td>1726.1243089561137</td>\n",
        "      <td>0.0</td>\n",
        "    </tr>\n",
        "    <tr>\n",
        "      <td>ocorreu_violencia_psicologica, autor_conjugue</td>\n",
        "      <td>17400.164070538238</td>\n",
        "      <td>0.0</td>\n",
        "    </tr>\n",
        "    <tr>\n",
        "      <td>ocorreu_violencia_psicologica, autor_propria_pessoa</td>\n",
        "      <td>33641.029554348715</td>\n",
        "      <td>0.0</td>\n",
        "    </tr>\n",
        "    <tr>\n",
        "      <td>ocorreu_violencia_psicologica, local_ocorrencia_bar_ou_similar *(adpt)</td>\n",
        "      <td>8.251653150751986</td>\n",
        "      <td>0.00407149047014866</td>\n",
        "    </tr>\n",
        "    <tr>\n",
        "      <td>ocorreu_violencia_psicologica, motivacao_violencia_situacao_rua *(adpt)</td>\n",
        "      <td>12.18948962428615</td>\n",
        "      <td>0.0004805953052067689</td>\n",
        "    </tr>\n",
        "  </tbody>\n",
        "</table>\n",
        "*variável com a nomenclatura adaptada\n",
        "\n",
        "No caso das variáveis independentes autor_mãe, autor_conjugue e autor_propria_pessoal é possível inferir que, a partir dos altos valores de qui-quadrado e de valores de p-value serem iguais a zero, há um forte indício de que tais variáveis independentes podem estar de fato bastante correlacionadas a variável independente.\n",
        "\n",
        "Por outro lado, nas variáveis local_ocorrencia_bar_ou_similar e motivacao_violencia_situacao_rua, é possível verificar que os valores de qui-quadrado tem um decréscimo, em certa medida, em relação às variáveis anteriores. Ainda assim, o p-value encontra-se próximo ou tendendo a zero, fazendo com que não haja indícios o suficiente para se rejeitar a hipótese nula. Diante disso, é possível verificar que se pode haver uma correlação entre tais variáveis independentes e a variável dependente. \n",
        "\n",
        "####Violência sexual:\n",
        "1. Autor Mãe\n",
        "2. Autor Cônjuge\n",
        "3. Autor Ex-Cônjuge\n",
        "4. Autor Filho(a)\n",
        "5. Autor Própria Pessoa\n",
        "6. Idade (0 a 17 anos)\n",
        "7. Motivação da Violência\n",
        "8. Sexo\n",
        "\n",
        "Os valores das métricas do modelo foram os expostos abaixo, demonstrando que o modelo aplicado tem uma boa tendência de previsão, uma vez que todos os parâmetros se encontram em torno de 59%-92%.\n",
        "\n",
        "<table>\n",
        "  <thead>\n",
        "    <tr>\n",
        "      <th> </th>\n",
        "      <th>Precision</th>\n",
        "      <th>Recall</th>\n",
        "      <th>F1-score</th>\n",
        "      <th>Accuracy</th>\n",
        "    </tr>\n",
        "  </thead>\n",
        "  <tbody>\n",
        "    <tr>\n",
        "      <th>0</th>\n",
        "      <td>0.640424</td>\n",
        "      <td>0.592004</td>\n",
        "      <td>0.615263</td>\n",
        "      <td>0.916141</td>\n",
        "    </tr>\n",
        "  </tbody>\n",
        "</table>\n",
        "\n",
        "<table>\n",
        "  <thead>\n",
        "    <tr>\n",
        "      <th>Variáveis</th>\n",
        "      <th>Qui-quadrado</th>\n",
        "      <th>p-valor</th>\n",
        "    </tr>\n",
        "  </thead>\n",
        "  <tbody>\n",
        "    <tr>\n",
        "      <td>('ocorreu_violencia_fisica', 'autor_mae')</td>\n",
        "      <td>21507.085532298814</td>\n",
        "      <td>0.0</td>\n",
        "    </tr>\n",
        "    <tr>\n",
        "      <td>('ocorreu_violencia_fisica', 'autor_conjugue')</td>\n",
        "      <td>23634.672183969047</td>\n",
        "      <td>0.0</td>\n",
        "    </tr>\n",
        "    <tr>\n",
        "      <td>('ocorreu_violencia_fisica', 'autor_ex_conjugue')</td>\n",
        "      <td>4392.011021429259</td>\n",
        "      <td>0.0</td>\n",
        "    </tr>\n",
        "    <tr>\n",
        "      <td>('ocorreu_violencia_fisica', 'autor_filho_a')</td>\n",
        "      <td>36.373924630045906</td>\n",
        "      <td>1.6286764344815765e-09</td>\n",
        "    </tr>\n",
        "    <tr>\n",
        "      <td>('ocorreu_violencia_fisica', 'autor_propria_pessoa')</td>\n",
        "      <td>33237.40437548103</td>\n",
        "      <td>0.0</td>\n",
        "    </tr>\n",
        "    <tr>\n",
        "      <td>('ocorreu_violencia_fisica', 'idade_paciente_0 a 17 anos')</td>\n",
        "      <td>22584.094163069523</td>\n",
        "      <td>0.0</td>\n",
        "    </tr>\n",
        "    <tr>\n",
        "      <td>('ocorreu_violencia_fisica', 'motivacao_violencia_sexismo') *(adpt)</td>\n",
        "      <td>292.7014925834245</td>\n",
        "      <td>1.2821380088899158e-65</td>\n",
        "    </tr>\n",
        "    <tr>\n",
        "      <td>('ocorreu_violencia_fisica', 'motivacao_violencia_racismo') *(adpt)</td>\n",
        "      <td>5.087130614289864</td>\n",
        "      <td>0.02410404213523479</td>\n",
        "    </tr>\n",
        "    <tr>\n",
        "      <td>('ocorreu_violencia_fisica', 'motivacao_violencia_conflito_geracional') *(adpt)</td>\n",
        "      <td>6652.513210273249</td>\n",
        "      <td>0.0</td>\n",
        "    </tr>\n",
        "    <tr>\n",
        "      <td>('ocorreu_violencia_fisica', 'sexo_paciente_masculino') *(adpt)</td>\n",
        "      <td>3.026513537002107</td>\n",
        "      <td>0.08191385799069525</td>\n",
        "    </tr>\n",
        "  </tbody>\n",
        "</table>\n",
        "*variável com a nomenclatura adaptada\n",
        "\n",
        "Nesse caso, é importante pontuar que foi necessário selecionar mais variáveis para que o modelo alcançasse métricas mais razoáveis/intermediárias. Como apresentado, as métricas apresentadas são as seguintes:\n",
        "\n",
        "* Precisão (Precision): é a proporção de amostras classificadas como positivas pelo modelo que são realmente positivas. Nesse caso, a precisão é de 0.64, o que significa que, das amostras classificadas como positivas, 64% são realmente positivas.\n",
        "\n",
        "* Recall (Revocação): é a proporção de amostras positivas do conjunto de dados que são corretamente classificadas como positivas pelo modelo. Nesse caso, o recall é de 0.592, o que significa que o modelo conseguiu identificar corretamente 59.2% das amostras positivas do conjunto de dados.\n",
        "\n",
        "* F1-score: é a média harmônica entre a precisão e o recall. É uma medida que leva em conta tanto os falsos positivos quanto os falsos negativos. Nesse caso, o F1-score é de 0.615, o que indica que o modelo tem um bom equilíbrio entre precisão e recall.\n",
        "\n",
        "* Acurácia (Accuracy): é a proporção de amostras classificadas corretamente pelo modelo. Nesse caso, a acurácia é de 0.916, o que significa que o modelo classificou corretamente 91.6% das amostras do conjunto de dados.\n",
        "\n",
        "Nesse cenário, é possível verificar como indicado na tabela que grande parte das variáveis independentes apresentam indícios de estarem bastante correlacionadas às variáveis dependentes. Contudo, nem todas as variáveis apresentam tal correlação. \n",
        "A variável independente referente ao sexo masculino apresenta p-value de 8%, indicando que há indícios, diante desses dados, de que se pode rejeitar a hipótese nula. Ademais, em termos sociais, esse dado parece fazer sentido, uma vez que vítimas de violência sexual serem apontadas como mais frequentes sendo do sexo feminino.\n",
        "Assim, foi possível, de acordo com os objetivos da análise, extrair informações favoráveis."
      ],
      "metadata": {
        "id": "2_1rkqadJX90"
      }
    }
  ]
}